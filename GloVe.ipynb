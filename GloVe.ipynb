{
  "nbformat": 4,
  "nbformat_minor": 0,
  "metadata": {
    "colab": {
      "name": "GloVe.ipynb",
      "provenance": [],
      "authorship_tag": "ABX9TyNpMTYY7bidw3kZFKnkROqu",
      "include_colab_link": true
    },
    "kernelspec": {
      "name": "python3",
      "display_name": "Python 3"
    },
    "language_info": {
      "name": "python"
    }
  },
  "cells": [
    {
      "cell_type": "markdown",
      "metadata": {
        "id": "view-in-github",
        "colab_type": "text"
      },
      "source": [
        "<a href=\"https://colab.research.google.com/github/ElleuchMed2022/ML-project/blob/master/GloVe.ipynb\" target=\"_parent\"><img src=\"https://colab.research.google.com/assets/colab-badge.svg\" alt=\"Open In Colab\"/></a>"
      ]
    },
    {
      "cell_type": "code",
      "execution_count": 1,
      "metadata": {
        "id": "qiQZU16rIou0"
      },
      "outputs": [],
      "source": [
        "import numpy as np \n",
        "from sklearn.manifold import TSNE\n",
        "import matplotlib.pyplot as plt "
      ]
    },
    {
      "cell_type": "code",
      "source": [
        "import gensim.downloader as api \n",
        "glove_model = api.load(\"glove-wiki-gigaword-300\")"
      ],
      "metadata": {
        "colab": {
          "base_uri": "https://localhost:8080/"
        },
        "id": "pZSxY6UsI3M8",
        "outputId": "0495ee4b-85ad-4683-83ed-877df157cbfb"
      },
      "execution_count": 2,
      "outputs": [
        {
          "output_type": "stream",
          "name": "stdout",
          "text": [
            "[==================================================] 100.0% 376.1/376.1MB downloaded\n"
          ]
        }
      ]
    },
    {
      "cell_type": "code",
      "source": [
        "glove_model[\"java\"]"
      ],
      "metadata": {
        "colab": {
          "base_uri": "https://localhost:8080/"
        },
        "id": "z0_QHaTCJF6r",
        "outputId": "3436fa0b-533f-4e32-af41-a05f2c32e4fe"
      },
      "execution_count": 3,
      "outputs": [
        {
          "output_type": "execute_result",
          "data": {
            "text/plain": [
              "array([-6.8932e-01, -8.0855e-01, -9.5270e-02, -9.2852e-01, -2.9479e-01,\n",
              "       -1.8414e-01,  9.7327e-02,  3.7991e-01, -8.9221e-02, -7.8170e-01,\n",
              "        7.1655e-01,  1.8121e-01, -4.9796e-01, -2.4022e-01,  1.3044e-01,\n",
              "        7.6266e-01,  6.4401e-01,  1.8073e-01,  3.2928e-01,  5.0045e-02,\n",
              "        7.8976e-01, -4.9823e-01,  5.7835e-02, -8.6499e-02, -3.1676e-01,\n",
              "        2.0041e-01,  2.3052e-02,  9.4821e-02, -2.9079e-01,  1.2847e-02,\n",
              "        2.3542e-01,  6.7208e-01, -1.5799e-01,  3.0963e-01,  8.3261e-01,\n",
              "       -2.7266e-01,  2.1284e-02, -6.5945e-02,  2.1026e-01, -3.3910e-02,\n",
              "       -5.6337e-03, -1.3471e-01, -2.8333e-01, -2.3401e-01,  2.1313e-01,\n",
              "       -2.8917e-01,  7.8734e-01, -8.6145e-02, -1.8529e-02, -3.8359e-01,\n",
              "        1.8743e-01,  5.9297e-01,  3.4715e-01, -4.3908e-01, -4.4799e-01,\n",
              "       -1.9545e-02, -3.3591e-02, -5.3738e-01, -3.6254e-01,  9.6256e-02,\n",
              "       -2.8038e-01, -4.2322e-01,  1.5894e-01, -3.1048e-01,  8.1050e-01,\n",
              "        7.6233e-01,  2.7034e-01,  5.2650e-01, -1.3744e-01,  2.3885e-01,\n",
              "       -9.5825e-01,  4.1689e-01, -1.0239e-01, -5.5571e-01, -2.7303e-01,\n",
              "        1.2130e-01,  8.0523e-01, -6.4804e-01,  3.6151e-01,  3.1839e-01,\n",
              "       -2.0410e-01, -6.2924e-01, -5.7032e-01, -3.5975e-01,  2.5975e-01,\n",
              "       -4.3532e-01, -9.4070e-01, -1.8027e-01,  5.5349e-01,  2.9673e-01,\n",
              "       -1.3439e+00, -1.2845e-02, -3.6944e-01,  6.6075e-02,  4.3575e-01,\n",
              "        1.8365e-01,  6.2776e-01, -8.3455e-01,  4.9680e-01, -1.5687e-01,\n",
              "        2.0209e-01, -3.8296e-02,  4.2145e-01,  1.6595e-01,  3.2042e-02,\n",
              "       -3.9947e-01, -2.2939e-02,  3.3777e-02, -1.4053e-01,  5.9281e-01,\n",
              "       -4.7371e-01, -6.8207e-01, -5.0579e-01,  2.0735e-01,  3.3321e-01,\n",
              "       -2.7410e-01, -6.5018e-01, -4.1242e-01,  1.2285e-01, -1.4583e-01,\n",
              "        1.6609e-01,  5.6397e-01, -5.4699e-01, -1.4306e-01,  1.0751e-01,\n",
              "        4.3406e-01,  3.2295e-01,  8.6249e-01,  5.4923e-01, -3.9403e-01,\n",
              "        2.6536e-01,  9.5950e-01,  1.3153e-01, -3.1633e-02,  1.0237e+00,\n",
              "        1.0860e-01, -3.1697e-03, -2.8992e-01,  4.3365e-01,  9.6770e-02,\n",
              "        3.4825e-02, -1.0665e-01, -3.8162e-01,  1.6543e-01, -4.6874e-01,\n",
              "       -1.5136e-01,  7.4474e-01, -9.1645e-02, -5.1876e-01, -7.9207e-01,\n",
              "        2.2847e-01,  6.7810e-02,  4.7535e-01,  4.4575e-01,  2.7263e-01,\n",
              "       -5.0109e-01,  7.5781e-02,  2.7009e-01,  5.9312e-01, -5.1692e-01,\n",
              "       -2.4450e-01, -3.4856e-01, -5.5837e-01,  2.2789e-01,  6.7788e-02,\n",
              "       -3.7046e-01,  1.1719e-01,  6.3437e-01,  8.3743e-02, -4.1250e-01,\n",
              "        1.9825e-01, -6.6458e-01, -2.2070e-01, -1.2021e-01,  9.6125e-02,\n",
              "       -2.9372e-01,  3.1682e-01,  7.1915e-02, -6.9318e-02, -1.5219e-01,\n",
              "       -6.4826e-01, -9.4556e-02,  3.9919e-01, -6.2750e-01,  4.6951e-01,\n",
              "       -1.7744e-01, -4.9315e-02,  2.7794e-01,  3.8185e-01,  1.1886e-01,\n",
              "        5.3726e-01,  4.2582e-01,  3.7363e-02,  1.7769e-01, -1.0156e-02,\n",
              "       -2.9101e-01, -5.4690e-01, -1.8043e-01, -5.6742e-01,  7.4983e-02,\n",
              "       -1.2404e-01,  9.1105e-02, -4.3482e-01,  7.1743e-01, -6.8886e-03,\n",
              "        1.5406e-04,  2.4517e-01, -1.4896e-01, -2.8196e-01, -1.0755e-01,\n",
              "       -6.7840e-01, -2.3255e-01,  1.0667e+00, -1.3786e-01,  7.3499e-02,\n",
              "        7.4144e-01, -6.5166e-01,  2.4388e-01, -1.0477e-01, -4.5859e-01,\n",
              "       -6.4385e-01,  8.4801e-01, -9.3546e-02,  8.1797e-01, -7.5545e-02,\n",
              "       -8.8133e-01, -9.2992e-02,  9.6162e-02, -4.5312e-01, -5.5193e-02,\n",
              "       -9.6994e-02,  4.6577e-02, -2.1585e-01, -1.3276e-01,  5.0275e-01,\n",
              "        1.6538e-02, -7.7501e-02,  3.4312e-01, -2.9584e-01, -3.7317e-01,\n",
              "        1.7212e-01,  4.2555e-01, -6.5074e-01, -2.1113e-01, -1.1576e-01,\n",
              "        4.4892e-02, -8.5131e-01,  1.2840e-01, -4.7875e-02,  2.8972e-01,\n",
              "       -7.5713e-02,  9.3957e-01, -3.7737e-01, -1.0163e-03, -7.2579e-01,\n",
              "       -2.7158e-01,  4.0064e-01,  8.4637e-01,  6.6374e-02, -1.7454e-01,\n",
              "        1.8376e-01,  1.6543e-03, -4.4153e-01, -3.4207e-01,  1.5914e-01,\n",
              "        8.3357e-02, -3.2211e-01, -5.9379e-01,  2.5862e-01, -5.4820e-01,\n",
              "       -5.7757e-01, -1.5547e-01, -1.2160e-01, -7.1530e-02, -5.8142e-01,\n",
              "        5.6568e-01, -1.4786e+00, -3.5703e-02, -6.8399e-01, -9.1939e-02,\n",
              "       -8.4579e-01, -2.5915e-01, -2.0765e-01, -5.3883e-01, -7.7009e-01,\n",
              "       -5.6813e-01, -3.9300e-01, -2.7977e-02,  2.1530e-01, -3.6667e-01,\n",
              "       -6.6502e-01, -5.3471e-02, -1.3026e-02,  1.1291e-01,  5.2947e-02,\n",
              "        8.6159e-01,  1.5252e-01, -6.9033e-01, -1.4451e-01,  2.1283e-01],\n",
              "      dtype=float32)"
            ]
          },
          "metadata": {},
          "execution_count": 3
        }
      ]
    },
    {
      "cell_type": "code",
      "source": [
        "glove_model.most_similar(\"html\")"
      ],
      "metadata": {
        "colab": {
          "base_uri": "https://localhost:8080/"
        },
        "id": "G_I1oCpiK8bZ",
        "outputId": "0ebfc020-7935-449f-cbef-55d7f1c635c9"
      },
      "execution_count": 4,
      "outputs": [
        {
          "output_type": "execute_result",
          "data": {
            "text/plain": [
              "[('xml', 0.6885745525360107),\n",
              " ('javascript', 0.6616926193237305),\n",
              " ('pdf', 0.6220543384552002),\n",
              " ('xhtml', 0.5757052898406982),\n",
              " ('templates', 0.5651684999465942),\n",
              " ('formatting', 0.5369759798049927),\n",
              " ('html5', 0.5252955555915833),\n",
              " ('codice_1', 0.5246426463127136),\n",
              " ('browsers', 0.5210837721824646),\n",
              " ('hypertext', 0.5210258364677429)]"
            ]
          },
          "metadata": {},
          "execution_count": 4
        }
      ]
    },
    {
      "cell_type": "code",
      "source": [
        "vocab = [\"boy\",\"girl\",\"man\",\"woman\",\"king\",\"queen\",\"banana\",\"apple\",\"aango\",\"fruit\",\"orange\",\"coconut\"]\n",
        "def tsne_plot(model):\n",
        "  labels = []\n",
        "  wordvecs=[]\n",
        "  for word in vocab :\n",
        "    wordvecs.append(model[word])\n",
        "    labels.append(word)\n",
        "  \n",
        "  tsne_model = TSNE(perplexity=3,n_components=2,init=\"pca\",random_state=42)\n",
        "  coordinates = tsne_model.fit_transform(wordvecs)\n",
        "\n",
        "  x=[]\n",
        "  y=[]\n",
        "  for value in coordinates:\n",
        "    x.append(value[0])\n",
        "    y.append(value[0])\n",
        "\n",
        "  plt.figure(figsize=(8,8))\n",
        "  for i in range(len(x)):\n",
        "    plt.scatter(x[i],y[i])\n",
        "    plt.annotate(labels[i],\n",
        "                 xy=(x[i],y[i]),\n",
        "                 xytext=(2,2),\n",
        "                 textcoords='offset points',\n",
        "                 ha=\"right\",\n",
        "                 va= \"bottom\")\n",
        "  plt.show()\n",
        "  tsne_plot(glove_model).show()\n",
        "  plt.show()\n",
        "\n",
        "\n"
      ],
      "metadata": {
        "id": "dcafjhHpLEU1"
      },
      "execution_count": 7,
      "outputs": []
    },
    {
      "cell_type": "code",
      "source": [
        ""
      ],
      "metadata": {
        "id": "laN6W3WQLX9m"
      },
      "execution_count": null,
      "outputs": []
    }
  ]
}