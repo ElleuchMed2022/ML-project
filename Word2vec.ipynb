{
  "cells": [
    {
      "cell_type": "markdown",
      "metadata": {
        "id": "view-in-github",
        "colab_type": "text"
      },
      "source": [
        "<a href=\"https://colab.research.google.com/github/ElleuchMed2022/ML-project/blob/master/Word2vec.ipynb\" target=\"_parent\"><img src=\"https://colab.research.google.com/assets/colab-badge.svg\" alt=\"Open In Colab\"/></a>"
      ]
    },
    {
      "cell_type": "code",
      "execution_count": 2,
      "metadata": {
        "id": "fvpYeX6_C2MF"
      },
      "outputs": [],
      "source": [
        "import numpy as np \n",
        "from sklearn.manifold import TSNE #method for converting high-dimensional vectors into low-dimensional things (dimension reduction mecanisme)\n",
        "import matplotlib.pyplot as plt"
      ]
    },
    {
      "cell_type": "code",
      "execution_count": 3,
      "metadata": {
        "id": "Uht3DTZyDL6z"
      },
      "outputs": [],
      "source": [
        "import gensim.downloader as api # pre_trained word vectors\n",
        "word2vec_model = api.load('word2vec-google-news-300')"
      ]
    },
    {
      "cell_type": "code",
      "execution_count": 4,
      "metadata": {
        "id": "alhy3lYADQ-3",
        "colab": {
          "base_uri": "https://localhost:8080/"
        },
        "outputId": "55016ef7-9f44-4ade-8150-971340a6d76c"
      },
      "outputs": [
        {
          "output_type": "execute_result",
          "data": {
            "text/plain": [
              "(300,)"
            ]
          },
          "metadata": {},
          "execution_count": 4
        }
      ],
      "source": [
        "word2vec_model[\"java\"].shape"
      ]
    },
    {
      "cell_type": "code",
      "source": [
        "word2vec_model.most_similar(\"html\")"
      ],
      "metadata": {
        "colab": {
          "base_uri": "https://localhost:8080/"
        },
        "id": "jNO_ZupA0Gj0",
        "outputId": "d5050955-2bdf-4884-97c4-8d9ff89e04ba"
      },
      "execution_count": 7,
      "outputs": [
        {
          "output_type": "execute_result",
          "data": {
            "text/plain": [
              "[('php', 0.6121302843093872),\n",
              " ('aspx', 0.5957453846931458),\n",
              " ('HTML', 0.5844939947128296),\n",
              " ('xhtml', 0.5653612613677979),\n",
              " ('jsp', 0.5644609928131104),\n",
              " ('cURL', 0.5595831871032715),\n",
              " ('http', 0.5538008809089661),\n",
              " ('HTML_PHP', 0.5515353679656982),\n",
              " ('wmf', 0.5514302849769592),\n",
              " ('drupal', 0.5509605407714844)]"
            ]
          },
          "metadata": {},
          "execution_count": 7
        }
      ]
    },
    {
      "cell_type": "code",
      "source": [
        "vocab = [\"boy\",\"girl\",\"man\",\"woman\",\"king\",\"queen\",\"banana\",\"apple\",\"aango\",\"fruit\",\"orange\",\"coconut\"]\n",
        "def tsne_plot(model):\n",
        "  labels = []\n",
        "  wordvecs=[]\n",
        "  for word in vocab :\n",
        "    wordvecs.append(model[word])\n",
        "    labels.append(word)\n",
        "  \n",
        "  tsne_model = TSNE(perplexity=3,n_components=2,init=\"pca\",random_state=42)\n",
        "  coordinates = tsne_model.fit_transform(wordvecs)\n",
        "\n",
        "  x=[]\n",
        "  y=[]\n",
        "  for value in coordinates:\n",
        "    x.append(value[0])\n",
        "    y.append(value[0])\n",
        "\n",
        "  plt.figure(figsize=(8,8))\n",
        "  for i in range(len(x)):\n",
        "    plt.scatter(x[i],y[i])\n",
        "    plt.annotate(labels[i],\n",
        "                 xy=(x[i],y[i]),\n",
        "                 xytext=(2,2),\n",
        "                 textcoords='offset points',\n",
        "                 ha=\"right\",\n",
        "                 va= \"bottom\")\n",
        "  plt.show()\n",
        "  tsne_plot(word2vec_model)\n",
        "\n",
        "\n",
        "\n",
        "\n",
        "  "
      ],
      "metadata": {
        "id": "CwDyrcuX0ku8"
      },
      "execution_count": 8,
      "outputs": []
    },
    {
      "cell_type": "code",
      "source": [
        ""
      ],
      "metadata": {
        "id": "VO0hfclgBu9W"
      },
      "execution_count": null,
      "outputs": []
    }
  ],
  "metadata": {
    "colab": {
      "name": "Word2vec.ipynb",
      "provenance": [],
      "authorship_tag": "ABX9TyPS5lABYrIaWY9pgOeLHjeC",
      "include_colab_link": true
    },
    "kernelspec": {
      "display_name": "Python 3",
      "name": "python3"
    },
    "language_info": {
      "name": "python"
    }
  },
  "nbformat": 4,
  "nbformat_minor": 0
}